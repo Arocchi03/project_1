{
 "cells": [
  {
   "cell_type": "code",
   "execution_count": 1,
   "metadata": {},
   "outputs": [],
   "source": [
    "import pandas as pd\n",
    "import numpy as np\n",
    "import matplotlib.pyplot as plt\n",
    "import scipy.stats as stats\n",
    "from datetime import datetime"
   ]
  },
  {
   "cell_type": "code",
   "execution_count": 2,
   "metadata": {},
   "outputs": [
    {
     "data": {
      "text/html": [
       "<div>\n",
       "<style scoped>\n",
       "    .dataframe tbody tr th:only-of-type {\n",
       "        vertical-align: middle;\n",
       "    }\n",
       "\n",
       "    .dataframe tbody tr th {\n",
       "        vertical-align: top;\n",
       "    }\n",
       "\n",
       "    .dataframe thead th {\n",
       "        text-align: right;\n",
       "    }\n",
       "</style>\n",
       "<table border=\"1\" class=\"dataframe\">\n",
       "  <thead>\n",
       "    <tr style=\"text-align: right;\">\n",
       "      <th></th>\n",
       "      <th>Unnamed: 0</th>\n",
       "      <th>origin</th>\n",
       "      <th>destination</th>\n",
       "      <th>day</th>\n",
       "      <th>callsign</th>\n",
       "    </tr>\n",
       "  </thead>\n",
       "  <tbody>\n",
       "    <tr>\n",
       "      <th>0</th>\n",
       "      <td>0</td>\n",
       "      <td>ZGSZ</td>\n",
       "      <td>KORD</td>\n",
       "      <td>2019-10-01 00:00:00+00:00</td>\n",
       "      <td>CHH705</td>\n",
       "    </tr>\n",
       "    <tr>\n",
       "      <th>1</th>\n",
       "      <td>1</td>\n",
       "      <td>LFPG</td>\n",
       "      <td>KORD</td>\n",
       "      <td>2019-10-01 00:00:00+00:00</td>\n",
       "      <td>AFR136</td>\n",
       "    </tr>\n",
       "    <tr>\n",
       "      <th>2</th>\n",
       "      <td>2</td>\n",
       "      <td>EDDF</td>\n",
       "      <td>KORD</td>\n",
       "      <td>2019-10-01 00:00:00+00:00</td>\n",
       "      <td>DLH432</td>\n",
       "    </tr>\n",
       "    <tr>\n",
       "      <th>3</th>\n",
       "      <td>3</td>\n",
       "      <td>NaN</td>\n",
       "      <td>KORD</td>\n",
       "      <td>2019-10-01 00:00:00+00:00</td>\n",
       "      <td>AZG788</td>\n",
       "    </tr>\n",
       "    <tr>\n",
       "      <th>4</th>\n",
       "      <td>4</td>\n",
       "      <td>EGLL</td>\n",
       "      <td>KORD</td>\n",
       "      <td>2019-10-01 00:00:00+00:00</td>\n",
       "      <td>BAW297</td>\n",
       "    </tr>\n",
       "  </tbody>\n",
       "</table>\n",
       "</div>"
      ],
      "text/plain": [
       "   Unnamed: 0 origin destination                        day callsign\n",
       "0           0   ZGSZ        KORD  2019-10-01 00:00:00+00:00   CHH705\n",
       "1           1   LFPG        KORD  2019-10-01 00:00:00+00:00   AFR136\n",
       "2           2   EDDF        KORD  2019-10-01 00:00:00+00:00   DLH432\n",
       "3           3    NaN        KORD  2019-10-01 00:00:00+00:00   AZG788\n",
       "4           4   EGLL        KORD  2019-10-01 00:00:00+00:00   BAW297"
      ]
     },
     "execution_count": 2,
     "metadata": {},
     "output_type": "execute_result"
    }
   ],
   "source": [
    "file = \"Resources/Flightlist_Concat.csv\"\n",
    "\n",
    "flights_df = pd.read_csv(file)\n",
    "flights_df.head()"
   ]
  },
  {
   "cell_type": "code",
   "execution_count": 3,
   "metadata": {},
   "outputs": [
    {
     "data": {
      "text/html": [
       "<div>\n",
       "<style scoped>\n",
       "    .dataframe tbody tr th:only-of-type {\n",
       "        vertical-align: middle;\n",
       "    }\n",
       "\n",
       "    .dataframe tbody tr th {\n",
       "        vertical-align: top;\n",
       "    }\n",
       "\n",
       "    .dataframe thead th {\n",
       "        text-align: right;\n",
       "    }\n",
       "</style>\n",
       "<table border=\"1\" class=\"dataframe\">\n",
       "  <thead>\n",
       "    <tr style=\"text-align: right;\">\n",
       "      <th></th>\n",
       "      <th>listing_id</th>\n",
       "      <th>date</th>\n",
       "    </tr>\n",
       "  </thead>\n",
       "  <tbody>\n",
       "    <tr>\n",
       "      <th>0</th>\n",
       "      <td>2384</td>\n",
       "      <td>10/13/2019</td>\n",
       "    </tr>\n",
       "    <tr>\n",
       "      <th>1</th>\n",
       "      <td>2384</td>\n",
       "      <td>10/23/2019</td>\n",
       "    </tr>\n",
       "    <tr>\n",
       "      <th>2</th>\n",
       "      <td>2384</td>\n",
       "      <td>10/25/2019</td>\n",
       "    </tr>\n",
       "    <tr>\n",
       "      <th>3</th>\n",
       "      <td>2384</td>\n",
       "      <td>11/10/2019</td>\n",
       "    </tr>\n",
       "    <tr>\n",
       "      <th>4</th>\n",
       "      <td>2384</td>\n",
       "      <td>11/13/2019</td>\n",
       "    </tr>\n",
       "  </tbody>\n",
       "</table>\n",
       "</div>"
      ],
      "text/plain": [
       "   listing_id        date\n",
       "0        2384  10/13/2019\n",
       "1        2384  10/23/2019\n",
       "2        2384  10/25/2019\n",
       "3        2384  11/10/2019\n",
       "4        2384  11/13/2019"
      ]
     },
     "execution_count": 3,
     "metadata": {},
     "output_type": "execute_result"
    }
   ],
   "source": [
    "# pull in airbnb data csv\n",
    "file2 = \"Resources/airbnb_q419_to_q420.csv\"\n",
    "\n",
    "airbnb_data = pd.read_csv(file2)\n",
    "airbnb_data.head()"
   ]
  },
  {
   "cell_type": "code",
   "execution_count": 4,
   "metadata": {},
   "outputs": [
    {
     "data": {
      "text/html": [
       "<div>\n",
       "<style scoped>\n",
       "    .dataframe tbody tr th:only-of-type {\n",
       "        vertical-align: middle;\n",
       "    }\n",
       "\n",
       "    .dataframe tbody tr th {\n",
       "        vertical-align: top;\n",
       "    }\n",
       "\n",
       "    .dataframe thead th {\n",
       "        text-align: right;\n",
       "    }\n",
       "</style>\n",
       "<table border=\"1\" class=\"dataframe\">\n",
       "  <thead>\n",
       "    <tr style=\"text-align: right;\">\n",
       "      <th></th>\n",
       "      <th>Unnamed: 0</th>\n",
       "      <th>origin</th>\n",
       "      <th>destination</th>\n",
       "      <th>day</th>\n",
       "      <th>callsign</th>\n",
       "      <th>airline</th>\n",
       "      <th>date</th>\n",
       "    </tr>\n",
       "  </thead>\n",
       "  <tbody>\n",
       "    <tr>\n",
       "      <th>0</th>\n",
       "      <td>0</td>\n",
       "      <td>ZGSZ</td>\n",
       "      <td>KORD</td>\n",
       "      <td>2019-10-01 00:00:00+00:00</td>\n",
       "      <td>CHH705</td>\n",
       "      <td>CHH</td>\n",
       "      <td>2019-10-01</td>\n",
       "    </tr>\n",
       "    <tr>\n",
       "      <th>1</th>\n",
       "      <td>1</td>\n",
       "      <td>LFPG</td>\n",
       "      <td>KORD</td>\n",
       "      <td>2019-10-01 00:00:00+00:00</td>\n",
       "      <td>AFR136</td>\n",
       "      <td>AFR</td>\n",
       "      <td>2019-10-01</td>\n",
       "    </tr>\n",
       "    <tr>\n",
       "      <th>2</th>\n",
       "      <td>2</td>\n",
       "      <td>EDDF</td>\n",
       "      <td>KORD</td>\n",
       "      <td>2019-10-01 00:00:00+00:00</td>\n",
       "      <td>DLH432</td>\n",
       "      <td>DLH</td>\n",
       "      <td>2019-10-01</td>\n",
       "    </tr>\n",
       "    <tr>\n",
       "      <th>3</th>\n",
       "      <td>3</td>\n",
       "      <td>NaN</td>\n",
       "      <td>KORD</td>\n",
       "      <td>2019-10-01 00:00:00+00:00</td>\n",
       "      <td>AZG788</td>\n",
       "      <td>AZG</td>\n",
       "      <td>2019-10-01</td>\n",
       "    </tr>\n",
       "    <tr>\n",
       "      <th>4</th>\n",
       "      <td>4</td>\n",
       "      <td>EGLL</td>\n",
       "      <td>KORD</td>\n",
       "      <td>2019-10-01 00:00:00+00:00</td>\n",
       "      <td>BAW297</td>\n",
       "      <td>BAW</td>\n",
       "      <td>2019-10-01</td>\n",
       "    </tr>\n",
       "  </tbody>\n",
       "</table>\n",
       "</div>"
      ],
      "text/plain": [
       "   Unnamed: 0 origin destination                        day callsign airline  \\\n",
       "0           0   ZGSZ        KORD  2019-10-01 00:00:00+00:00   CHH705     CHH   \n",
       "1           1   LFPG        KORD  2019-10-01 00:00:00+00:00   AFR136     AFR   \n",
       "2           2   EDDF        KORD  2019-10-01 00:00:00+00:00   DLH432     DLH   \n",
       "3           3    NaN        KORD  2019-10-01 00:00:00+00:00   AZG788     AZG   \n",
       "4           4   EGLL        KORD  2019-10-01 00:00:00+00:00   BAW297     BAW   \n",
       "\n",
       "         date  \n",
       "0  2019-10-01  \n",
       "1  2019-10-01  \n",
       "2  2019-10-01  \n",
       "3  2019-10-01  \n",
       "4  2019-10-01  "
      ]
     },
     "execution_count": 4,
     "metadata": {},
     "output_type": "execute_result"
    }
   ],
   "source": [
    "# put long date into smaller date format in new column\n",
    "flights_df[\"airline\"] = flights_df[\"callsign\"].str[:3]\n",
    "flights_df['date'] = flights_df[\"day\"].str[:10]\n",
    "flights_df.head()"
   ]
  },
  {
   "cell_type": "code",
   "execution_count": 5,
   "metadata": {},
   "outputs": [
    {
     "data": {
      "text/html": [
       "<div>\n",
       "<style scoped>\n",
       "    .dataframe tbody tr th:only-of-type {\n",
       "        vertical-align: middle;\n",
       "    }\n",
       "\n",
       "    .dataframe tbody tr th {\n",
       "        vertical-align: top;\n",
       "    }\n",
       "\n",
       "    .dataframe thead th {\n",
       "        text-align: right;\n",
       "    }\n",
       "</style>\n",
       "<table border=\"1\" class=\"dataframe\">\n",
       "  <thead>\n",
       "    <tr style=\"text-align: right;\">\n",
       "      <th></th>\n",
       "      <th>Unnamed: 0</th>\n",
       "      <th>origin</th>\n",
       "      <th>destination</th>\n",
       "      <th>day</th>\n",
       "      <th>callsign</th>\n",
       "      <th>airline</th>\n",
       "      <th>date</th>\n",
       "      <th>month</th>\n",
       "    </tr>\n",
       "  </thead>\n",
       "  <tbody>\n",
       "    <tr>\n",
       "      <th>0</th>\n",
       "      <td>0</td>\n",
       "      <td>ZGSZ</td>\n",
       "      <td>KORD</td>\n",
       "      <td>2019-10-01 00:00:00+00:00</td>\n",
       "      <td>CHH705</td>\n",
       "      <td>CHH</td>\n",
       "      <td>2019-10-01</td>\n",
       "      <td>10-2019</td>\n",
       "    </tr>\n",
       "    <tr>\n",
       "      <th>1</th>\n",
       "      <td>1</td>\n",
       "      <td>LFPG</td>\n",
       "      <td>KORD</td>\n",
       "      <td>2019-10-01 00:00:00+00:00</td>\n",
       "      <td>AFR136</td>\n",
       "      <td>AFR</td>\n",
       "      <td>2019-10-01</td>\n",
       "      <td>10-2019</td>\n",
       "    </tr>\n",
       "    <tr>\n",
       "      <th>2</th>\n",
       "      <td>2</td>\n",
       "      <td>EDDF</td>\n",
       "      <td>KORD</td>\n",
       "      <td>2019-10-01 00:00:00+00:00</td>\n",
       "      <td>DLH432</td>\n",
       "      <td>DLH</td>\n",
       "      <td>2019-10-01</td>\n",
       "      <td>10-2019</td>\n",
       "    </tr>\n",
       "    <tr>\n",
       "      <th>3</th>\n",
       "      <td>3</td>\n",
       "      <td>NaN</td>\n",
       "      <td>KORD</td>\n",
       "      <td>2019-10-01 00:00:00+00:00</td>\n",
       "      <td>AZG788</td>\n",
       "      <td>AZG</td>\n",
       "      <td>2019-10-01</td>\n",
       "      <td>10-2019</td>\n",
       "    </tr>\n",
       "    <tr>\n",
       "      <th>4</th>\n",
       "      <td>4</td>\n",
       "      <td>EGLL</td>\n",
       "      <td>KORD</td>\n",
       "      <td>2019-10-01 00:00:00+00:00</td>\n",
       "      <td>BAW297</td>\n",
       "      <td>BAW</td>\n",
       "      <td>2019-10-01</td>\n",
       "      <td>10-2019</td>\n",
       "    </tr>\n",
       "  </tbody>\n",
       "</table>\n",
       "</div>"
      ],
      "text/plain": [
       "   Unnamed: 0 origin destination                        day callsign airline  \\\n",
       "0           0   ZGSZ        KORD  2019-10-01 00:00:00+00:00   CHH705     CHH   \n",
       "1           1   LFPG        KORD  2019-10-01 00:00:00+00:00   AFR136     AFR   \n",
       "2           2   EDDF        KORD  2019-10-01 00:00:00+00:00   DLH432     DLH   \n",
       "3           3    NaN        KORD  2019-10-01 00:00:00+00:00   AZG788     AZG   \n",
       "4           4   EGLL        KORD  2019-10-01 00:00:00+00:00   BAW297     BAW   \n",
       "\n",
       "        date    month  \n",
       "0 2019-10-01  10-2019  \n",
       "1 2019-10-01  10-2019  \n",
       "2 2019-10-01  10-2019  \n",
       "3 2019-10-01  10-2019  \n",
       "4 2019-10-01  10-2019  "
      ]
     },
     "execution_count": 5,
     "metadata": {},
     "output_type": "execute_result"
    }
   ],
   "source": [
    "#put flight info in date time format\n",
    "flights_df['date']= pd.to_datetime(flights_df[\"date\"], format='%Y-%m-%d', errors='coerce')\n",
    "flights_df['month']= pd.to_datetime(flights_df[\"date\"], format='%Y-%m-%d', errors='coerce').dt.strftime('%m-%Y')\n",
    "flights_df.head()"
   ]
  },
  {
   "cell_type": "code",
   "execution_count": 6,
   "metadata": {},
   "outputs": [
    {
     "data": {
      "text/html": [
       "<div>\n",
       "<style scoped>\n",
       "    .dataframe tbody tr th:only-of-type {\n",
       "        vertical-align: middle;\n",
       "    }\n",
       "\n",
       "    .dataframe tbody tr th {\n",
       "        vertical-align: top;\n",
       "    }\n",
       "\n",
       "    .dataframe thead th {\n",
       "        text-align: right;\n",
       "    }\n",
       "</style>\n",
       "<table border=\"1\" class=\"dataframe\">\n",
       "  <thead>\n",
       "    <tr style=\"text-align: right;\">\n",
       "      <th></th>\n",
       "      <th>listing_id</th>\n",
       "      <th>date</th>\n",
       "    </tr>\n",
       "  </thead>\n",
       "  <tbody>\n",
       "    <tr>\n",
       "      <th>0</th>\n",
       "      <td>2384</td>\n",
       "      <td>2019-10-13</td>\n",
       "    </tr>\n",
       "    <tr>\n",
       "      <th>1</th>\n",
       "      <td>2384</td>\n",
       "      <td>2019-10-23</td>\n",
       "    </tr>\n",
       "    <tr>\n",
       "      <th>2</th>\n",
       "      <td>2384</td>\n",
       "      <td>2019-10-25</td>\n",
       "    </tr>\n",
       "    <tr>\n",
       "      <th>3</th>\n",
       "      <td>2384</td>\n",
       "      <td>2019-11-10</td>\n",
       "    </tr>\n",
       "    <tr>\n",
       "      <th>4</th>\n",
       "      <td>2384</td>\n",
       "      <td>2019-11-13</td>\n",
       "    </tr>\n",
       "  </tbody>\n",
       "</table>\n",
       "</div>"
      ],
      "text/plain": [
       "   listing_id       date\n",
       "0        2384 2019-10-13\n",
       "1        2384 2019-10-23\n",
       "2        2384 2019-10-25\n",
       "3        2384 2019-11-10\n",
       "4        2384 2019-11-13"
      ]
     },
     "execution_count": 6,
     "metadata": {},
     "output_type": "execute_result"
    }
   ],
   "source": [
    "airbnb_data['date']= pd.to_datetime(airbnb_data[\"date\"], format='%m/%d/%Y', errors='coerce')\n",
    "#airbnb_data['date']= pd.to_datetime(airbnb_data[\"date\"], format='%m/%d/%Y', errors='coerce').dt.strftime('%m-%Y')\n",
    "airbnb_data.head()"
   ]
  },
  {
   "cell_type": "code",
   "execution_count": 7,
   "metadata": {},
   "outputs": [
    {
     "data": {
      "text/plain": [
       "Unnamed: 0              int64\n",
       "origin                 object\n",
       "destination            object\n",
       "day                    object\n",
       "callsign               object\n",
       "airline                object\n",
       "date           datetime64[ns]\n",
       "month                  object\n",
       "dtype: object"
      ]
     },
     "execution_count": 7,
     "metadata": {},
     "output_type": "execute_result"
    }
   ],
   "source": [
    "flights_df.dtypes"
   ]
  },
  {
   "cell_type": "code",
   "execution_count": 8,
   "metadata": {},
   "outputs": [
    {
     "data": {
      "text/html": [
       "<div>\n",
       "<style scoped>\n",
       "    .dataframe tbody tr th:only-of-type {\n",
       "        vertical-align: middle;\n",
       "    }\n",
       "\n",
       "    .dataframe tbody tr th {\n",
       "        vertical-align: top;\n",
       "    }\n",
       "\n",
       "    .dataframe thead th {\n",
       "        text-align: right;\n",
       "    }\n",
       "</style>\n",
       "<table border=\"1\" class=\"dataframe\">\n",
       "  <thead>\n",
       "    <tr style=\"text-align: right;\">\n",
       "      <th></th>\n",
       "      <th>Unnamed: 0</th>\n",
       "      <th>origin</th>\n",
       "      <th>destination</th>\n",
       "      <th>day</th>\n",
       "      <th>callsign</th>\n",
       "      <th>airline</th>\n",
       "      <th>month</th>\n",
       "    </tr>\n",
       "    <tr>\n",
       "      <th>date</th>\n",
       "      <th></th>\n",
       "      <th></th>\n",
       "      <th></th>\n",
       "      <th></th>\n",
       "      <th></th>\n",
       "      <th></th>\n",
       "      <th></th>\n",
       "    </tr>\n",
       "  </thead>\n",
       "  <tbody>\n",
       "    <tr>\n",
       "      <th>2019-10-01</th>\n",
       "      <td>1587</td>\n",
       "      <td>1183</td>\n",
       "      <td>1587</td>\n",
       "      <td>1587</td>\n",
       "      <td>1587</td>\n",
       "      <td>1587</td>\n",
       "      <td>1587</td>\n",
       "    </tr>\n",
       "    <tr>\n",
       "      <th>2019-10-02</th>\n",
       "      <td>1539</td>\n",
       "      <td>1154</td>\n",
       "      <td>1539</td>\n",
       "      <td>1539</td>\n",
       "      <td>1539</td>\n",
       "      <td>1539</td>\n",
       "      <td>1539</td>\n",
       "    </tr>\n",
       "    <tr>\n",
       "      <th>2019-10-03</th>\n",
       "      <td>1644</td>\n",
       "      <td>1250</td>\n",
       "      <td>1644</td>\n",
       "      <td>1644</td>\n",
       "      <td>1644</td>\n",
       "      <td>1644</td>\n",
       "      <td>1644</td>\n",
       "    </tr>\n",
       "    <tr>\n",
       "      <th>2019-10-04</th>\n",
       "      <td>1580</td>\n",
       "      <td>1194</td>\n",
       "      <td>1580</td>\n",
       "      <td>1580</td>\n",
       "      <td>1580</td>\n",
       "      <td>1580</td>\n",
       "      <td>1580</td>\n",
       "    </tr>\n",
       "    <tr>\n",
       "      <th>2019-10-05</th>\n",
       "      <td>1426</td>\n",
       "      <td>1071</td>\n",
       "      <td>1426</td>\n",
       "      <td>1426</td>\n",
       "      <td>1426</td>\n",
       "      <td>1426</td>\n",
       "      <td>1426</td>\n",
       "    </tr>\n",
       "    <tr>\n",
       "      <th>...</th>\n",
       "      <td>...</td>\n",
       "      <td>...</td>\n",
       "      <td>...</td>\n",
       "      <td>...</td>\n",
       "      <td>...</td>\n",
       "      <td>...</td>\n",
       "      <td>...</td>\n",
       "    </tr>\n",
       "    <tr>\n",
       "      <th>2020-12-27</th>\n",
       "      <td>956</td>\n",
       "      <td>741</td>\n",
       "      <td>956</td>\n",
       "      <td>956</td>\n",
       "      <td>956</td>\n",
       "      <td>956</td>\n",
       "      <td>956</td>\n",
       "    </tr>\n",
       "    <tr>\n",
       "      <th>2020-12-28</th>\n",
       "      <td>944</td>\n",
       "      <td>744</td>\n",
       "      <td>944</td>\n",
       "      <td>944</td>\n",
       "      <td>944</td>\n",
       "      <td>944</td>\n",
       "      <td>944</td>\n",
       "    </tr>\n",
       "    <tr>\n",
       "      <th>2020-12-29</th>\n",
       "      <td>780</td>\n",
       "      <td>625</td>\n",
       "      <td>780</td>\n",
       "      <td>780</td>\n",
       "      <td>780</td>\n",
       "      <td>780</td>\n",
       "      <td>780</td>\n",
       "    </tr>\n",
       "    <tr>\n",
       "      <th>2020-12-30</th>\n",
       "      <td>867</td>\n",
       "      <td>693</td>\n",
       "      <td>867</td>\n",
       "      <td>867</td>\n",
       "      <td>867</td>\n",
       "      <td>867</td>\n",
       "      <td>867</td>\n",
       "    </tr>\n",
       "    <tr>\n",
       "      <th>2020-12-31</th>\n",
       "      <td>755</td>\n",
       "      <td>604</td>\n",
       "      <td>755</td>\n",
       "      <td>755</td>\n",
       "      <td>755</td>\n",
       "      <td>755</td>\n",
       "      <td>755</td>\n",
       "    </tr>\n",
       "  </tbody>\n",
       "</table>\n",
       "<p>457 rows × 7 columns</p>\n",
       "</div>"
      ],
      "text/plain": [
       "            Unnamed: 0  origin  destination   day  callsign  airline  month\n",
       "date                                                                       \n",
       "2019-10-01        1587    1183         1587  1587      1587     1587   1587\n",
       "2019-10-02        1539    1154         1539  1539      1539     1539   1539\n",
       "2019-10-03        1644    1250         1644  1644      1644     1644   1644\n",
       "2019-10-04        1580    1194         1580  1580      1580     1580   1580\n",
       "2019-10-05        1426    1071         1426  1426      1426     1426   1426\n",
       "...                ...     ...          ...   ...       ...      ...    ...\n",
       "2020-12-27         956     741          956   956       956      956    956\n",
       "2020-12-28         944     744          944   944       944      944    944\n",
       "2020-12-29         780     625          780   780       780      780    780\n",
       "2020-12-30         867     693          867   867       867      867    867\n",
       "2020-12-31         755     604          755   755       755      755    755\n",
       "\n",
       "[457 rows x 7 columns]"
      ]
     },
     "execution_count": 8,
     "metadata": {},
     "output_type": "execute_result"
    }
   ],
   "source": [
    "#scatter plot\n",
    "months = flights_df['month'].unique()\n",
    "traffic_month = flights_df.groupby(\"month\")\n",
    "traffic_date = flights_df.groupby(\"date\")\n",
    "traffic_date.count()\n",
    "#traffic_month.count()\n",
    "#num_flights = sorted(traffic_month.count())\n",
    "#months\n",
    "#num_flights"
   ]
  },
  {
   "cell_type": "code",
   "execution_count": 9,
   "metadata": {
    "scrolled": false
   },
   "outputs": [
    {
     "data": {
      "image/png": "[encoded data removed]",
      "text/plain": [
       "<Figure size 1080x720 with 1 Axes>"
      ]
     },
     "metadata": {
      "needs_background": "light"
     },
     "output_type": "display_data"
    }
   ],
   "source": [
    "fig, ax = plt.subplots(figsize = (15,10))\n",
    "#is the index set to date?\n",
    "y_axis = flights_df.groupby('date')['destination'].count()\n",
    "ax.plot(y_axis)\n",
    "#add x axis and y axis\n",
    "#x_axis = flights_df['date'].index.values\n",
    "#y_axis = traffic_date['destination'].values\n",
    "#ax.scatter(x_axis, y_axis, color=\"purple\")\n",
    "ax.set(xlabel=\"Date\", ylabel=\"Number of flights\", title=\"Flights coming into Chicago by date\")\n",
    "plt.show()"
   ]
  },
  {
   "cell_type": "code",
   "execution_count": 10,
   "metadata": {},
   "outputs": [
    {
     "data": {
      "text/plain": [
       "[Text(0, 0, '2019-10'),\n",
       " Text(1, 0, '2019-11'),\n",
       " Text(2, 0, '2019-12'),\n",
       " Text(3, 0, '2020-01'),\n",
       " Text(4, 0, '2020-02'),\n",
       " Text(5, 0, '2020-03'),\n",
       " Text(6, 0, '2020-04'),\n",
       " Text(7, 0, '2020-05'),\n",
       " Text(8, 0, '2020-06'),\n",
       " Text(9, 0, '2020-07'),\n",
       " Text(10, 0, '2020-08'),\n",
       " Text(11, 0, '2020-09'),\n",
       " Text(12, 0, '2020-10'),\n",
       " Text(13, 0, '2020-11'),\n",
       " Text(14, 0, '2020-12')]"
      ]
     },
     "execution_count": 10,
     "metadata": {},
     "output_type": "execute_result"
    },
    {
     "data": {
      "image/png": "[encoded data removed]",
      "text/plain": [
       "<Figure size 432x288 with 1 Axes>"
      ]
     },
     "metadata": {
      "needs_background": "light"
     },
     "output_type": "display_data"
    }
   ],
   "source": [
    "#flights_df.head()\n",
    "plot_df = flights_df[['date', 'destination']]\n",
    "s = plot_df.groupby(pd.Grouper(freq='M', key='date'))['destination'].count()\n",
    "#print (s)\n",
    "ax1 = s.plot(kind=\"bar\")\n",
    "ax1.set_xticklabels(s.index.strftime('%Y-%m'))\n",
    "#plot_df.head()\n",
    "#plot_df.set_index('date')\n",
    "#plot_df.head()\n",
    "#plot_df.loc[plot_df['date'], 'date'].dt.to_period('M').value_counts().plot(kind=\"bar\")"
   ]
  },
  {
   "cell_type": "code",
   "execution_count": 11,
   "metadata": {},
   "outputs": [
    {
     "name": "stdout",
     "output_type": "stream",
     "text": [
      "date\n",
      "2019-10-31    9925\n",
      "2019-11-30    7060\n",
      "2019-12-31    6486\n",
      "2020-01-31    5452\n",
      "2020-02-29    5760\n",
      "2020-03-31    4664\n",
      "2020-04-30    1013\n",
      "2020-05-31    1529\n",
      "2020-06-30    2636\n",
      "2020-07-31    4688\n",
      "2020-08-31    5116\n",
      "2020-09-30    5269\n",
      "2020-10-31    5393\n",
      "2020-11-30    4136\n",
      "2020-12-31    1228\n",
      "Freq: M, Name: listing_id, dtype: int64\n"
     ]
    }
   ],
   "source": [
    "plot2_df = airbnb_data\n",
    "t = plot2_df.groupby(pd.Grouper(freq='M', key='date'))['listing_id'].count()\n",
    "print(t)"
   ]
  },
  {
   "cell_type": "code",
   "execution_count": 12,
   "metadata": {},
   "outputs": [
    {
     "data": {
      "text/html": [
       "<div>\n",
       "<style scoped>\n",
       "    .dataframe tbody tr th:only-of-type {\n",
       "        vertical-align: middle;\n",
       "    }\n",
       "\n",
       "    .dataframe tbody tr th {\n",
       "        vertical-align: top;\n",
       "    }\n",
       "\n",
       "    .dataframe thead th {\n",
       "        text-align: right;\n",
       "    }\n",
       "</style>\n",
       "<table border=\"1\" class=\"dataframe\">\n",
       "  <thead>\n",
       "    <tr style=\"text-align: right;\">\n",
       "      <th></th>\n",
       "      <th>month</th>\n",
       "      <th>flight count</th>\n",
       "      <th>lodging count</th>\n",
       "    </tr>\n",
       "    <tr>\n",
       "      <th>date</th>\n",
       "      <th></th>\n",
       "      <th></th>\n",
       "      <th></th>\n",
       "    </tr>\n",
       "  </thead>\n",
       "  <tbody>\n",
       "    <tr>\n",
       "      <th>2019-10-31</th>\n",
       "      <td>10-2019</td>\n",
       "      <td>47760</td>\n",
       "      <td>9925</td>\n",
       "    </tr>\n",
       "    <tr>\n",
       "      <th>2019-11-30</th>\n",
       "      <td>11-2019</td>\n",
       "      <td>44110</td>\n",
       "      <td>7060</td>\n",
       "    </tr>\n",
       "    <tr>\n",
       "      <th>2019-12-31</th>\n",
       "      <td>12-2019</td>\n",
       "      <td>45166</td>\n",
       "      <td>6486</td>\n",
       "    </tr>\n",
       "    <tr>\n",
       "      <th>2020-01-31</th>\n",
       "      <td>01-2020</td>\n",
       "      <td>42089</td>\n",
       "      <td>5452</td>\n",
       "    </tr>\n",
       "    <tr>\n",
       "      <th>2020-02-29</th>\n",
       "      <td>02-2020</td>\n",
       "      <td>41107</td>\n",
       "      <td>5760</td>\n",
       "    </tr>\n",
       "    <tr>\n",
       "      <th>2020-03-31</th>\n",
       "      <td>03-2020</td>\n",
       "      <td>38136</td>\n",
       "      <td>4664</td>\n",
       "    </tr>\n",
       "    <tr>\n",
       "      <th>2020-04-30</th>\n",
       "      <td>04-2020</td>\n",
       "      <td>15434</td>\n",
       "      <td>1013</td>\n",
       "    </tr>\n",
       "    <tr>\n",
       "      <th>2020-05-31</th>\n",
       "      <td>05-2020</td>\n",
       "      <td>14895</td>\n",
       "      <td>1529</td>\n",
       "    </tr>\n",
       "    <tr>\n",
       "      <th>2020-06-30</th>\n",
       "      <td>06-2020</td>\n",
       "      <td>17481</td>\n",
       "      <td>2636</td>\n",
       "    </tr>\n",
       "    <tr>\n",
       "      <th>2020-07-31</th>\n",
       "      <td>07-2020</td>\n",
       "      <td>26033</td>\n",
       "      <td>4688</td>\n",
       "    </tr>\n",
       "    <tr>\n",
       "      <th>2020-08-31</th>\n",
       "      <td>08-2020</td>\n",
       "      <td>28463</td>\n",
       "      <td>5116</td>\n",
       "    </tr>\n",
       "    <tr>\n",
       "      <th>2020-09-30</th>\n",
       "      <td>09-2020</td>\n",
       "      <td>25998</td>\n",
       "      <td>5269</td>\n",
       "    </tr>\n",
       "    <tr>\n",
       "      <th>2020-10-31</th>\n",
       "      <td>10-2020</td>\n",
       "      <td>26225</td>\n",
       "      <td>5393</td>\n",
       "    </tr>\n",
       "    <tr>\n",
       "      <th>2020-11-30</th>\n",
       "      <td>11-2020</td>\n",
       "      <td>25100</td>\n",
       "      <td>4136</td>\n",
       "    </tr>\n",
       "    <tr>\n",
       "      <th>2020-12-31</th>\n",
       "      <td>12-2020</td>\n",
       "      <td>25000</td>\n",
       "      <td>1228</td>\n",
       "    </tr>\n",
       "  </tbody>\n",
       "</table>\n",
       "</div>"
      ],
      "text/plain": [
       "              month  flight count  lodging count\n",
       "date                                            \n",
       "2019-10-31  10-2019         47760           9925\n",
       "2019-11-30  11-2019         44110           7060\n",
       "2019-12-31  12-2019         45166           6486\n",
       "2020-01-31  01-2020         42089           5452\n",
       "2020-02-29  02-2020         41107           5760\n",
       "2020-03-31  03-2020         38136           4664\n",
       "2020-04-30  04-2020         15434           1013\n",
       "2020-05-31  05-2020         14895           1529\n",
       "2020-06-30  06-2020         17481           2636\n",
       "2020-07-31  07-2020         26033           4688\n",
       "2020-08-31  08-2020         28463           5116\n",
       "2020-09-30  09-2020         25998           5269\n",
       "2020-10-31  10-2020         26225           5393\n",
       "2020-11-30  11-2020         25100           4136\n",
       "2020-12-31  12-2020         25000           1228"
      ]
     },
     "execution_count": 12,
     "metadata": {},
     "output_type": "execute_result"
    }
   ],
   "source": [
    "#merge the two together\n",
    "merge_df = pd.DataFrame(columns = ['month','flight count', 'lodging count'])\n",
    "test_df = flights_df.groupby(pd.Grouper(freq='M', key='date')).agg({'month':'count'})\n",
    "test2_df = airbnb_data.groupby(pd.Grouper(freq='M', key='date')).agg({'listing_id':'count'})\n",
    "#test_df\n",
    "#for x in range(15):\n",
    "merge_df['flight count'] = test_df['month']\n",
    "merge_df['lodging count'] = test2_df['listing_id']\n",
    "merge_df['month'] = months\n",
    "merge_df"
   ]
  },
  {
   "cell_type": "code",
   "execution_count": 57,
   "metadata": {},
   "outputs": [
    {
     "data": {
      "image/png": "[encoded data removed]",
      "text/plain": [
       "<Figure size 432x288 with 1 Axes>"
      ]
     },
     "metadata": {
      "needs_background": "light"
     },
     "output_type": "display_data"
    }
   ],
   "source": [
    "#https://stackoverflow.com/questions/53228762/matplotlib-double-bar-graph-with-pandas-series\n",
    "\n",
    "ax = merge_df.plot.bar(color=[\"SkyBlue\",\"IndianRed\"], rot=0, title=\"Flights Vs Lodging\")\n",
    "times = pd.date_range('2019-10', periods=15, freq='1M')\n",
    "ax.set_xlabel(\"date\")\n",
    "ax.set_ylabel(\"counts\")\n",
    "ax.xaxis.set_major_formatter(plt.FixedFormatter(times.strftime(\"%b %d %Y\")))\n",
    "plt.gcf().autofmt_xdate()\n",
    "plt.show()"
   ]
  },
  {
   "cell_type": "code",
   "execution_count": 71,
   "metadata": {},
   "outputs": [
    {
     "data": {
      "image/png": "[encoded data removed]",
      "text/plain": [
       "<Figure size 432x288 with 1 Axes>"
      ]
     },
     "metadata": {
      "needs_background": "light"
     },
     "output_type": "display_data"
    }
   ],
   "source": [
    "ax = merge_df.plot.area(color=[\"SkyBlue\"],y = 'flight count',rot = 0)\n",
    "times = pd.date_range('2019-10', periods=15, freq='1M')\n",
    "plt.gcf().autofmt_xdate()\n",
    "ax.set_xlabel(\"date\")\n",
    "ax.set_ylabel(\"counts\")\n",
    "plt.show()\n"
   ]
  },
  {
   "cell_type": "code",
   "execution_count": 72,
   "metadata": {},
   "outputs": [
    {
     "data": {
      "image/png": "[encoded data removed]",
      "text/plain": [
       "<Figure size 432x288 with 1 Axes>"
      ]
     },
     "metadata": {
      "needs_background": "light"
     },
     "output_type": "display_data"
    }
   ],
   "source": [
    "ax = merge_df.plot.area(color=[\"IndianRed\"],y = 'lodging count',rot = 0)\n",
    "times = pd.date_range('2019-10', periods=15, freq='1M')\n",
    "plt.gcf().autofmt_xdate()\n",
    "ax.set_xlabel(\"date\")\n",
    "ax.set_ylabel(\"counts\")\n",
    "plt.show()"
   ]
  },
  {
   "cell_type": "code",
   "execution_count": 14,
   "metadata": {},
   "outputs": [
    {
     "data": {
      "text/plain": [
       "<AxesSubplot:xlabel='flight count', ylabel='lodging count'>"
      ]
     },
     "execution_count": 14,
     "metadata": {},
     "output_type": "execute_result"
    },
    {
     "data": {
      "image/png": "[encoded data removed]",
      "text/plain": [
       "<Figure size 432x288 with 1 Axes>"
      ]
     },
     "metadata": {
      "needs_background": "light"
     },
     "output_type": "display_data"
    }
   ],
   "source": [
    "merge_df.plot.scatter(x=\"flight count\", y=\"lodging count\")"
   ]
  },
  {
   "cell_type": "code",
   "execution_count": null,
   "metadata": {},
   "outputs": [],
   "source": []
  },
  {
   "cell_type": "code",
   "execution_count": 15,
   "metadata": {},
   "outputs": [
    {
     "data": {
      "text/html": [
       "<div>\n",
       "<style scoped>\n",
       "    .dataframe tbody tr th:only-of-type {\n",
       "        vertical-align: middle;\n",
       "    }\n",
       "\n",
       "    .dataframe tbody tr th {\n",
       "        vertical-align: top;\n",
       "    }\n",
       "\n",
       "    .dataframe thead th {\n",
       "        text-align: right;\n",
       "    }\n",
       "</style>\n",
       "<table border=\"1\" class=\"dataframe\">\n",
       "  <thead>\n",
       "    <tr style=\"text-align: right;\">\n",
       "      <th></th>\n",
       "      <th>destination</th>\n",
       "    </tr>\n",
       "    <tr>\n",
       "      <th>origin</th>\n",
       "      <th></th>\n",
       "    </tr>\n",
       "  </thead>\n",
       "  <tbody>\n",
       "    <tr>\n",
       "      <th>00GA</th>\n",
       "      <td>1</td>\n",
       "    </tr>\n",
       "    <tr>\n",
       "      <th>00NY</th>\n",
       "      <td>1</td>\n",
       "    </tr>\n",
       "    <tr>\n",
       "      <th>00WA</th>\n",
       "      <td>1</td>\n",
       "    </tr>\n",
       "    <tr>\n",
       "      <th>00WI</th>\n",
       "      <td>2</td>\n",
       "    </tr>\n",
       "    <tr>\n",
       "      <th>01FA</th>\n",
       "      <td>36</td>\n",
       "    </tr>\n",
       "    <tr>\n",
       "      <th>...</th>\n",
       "      <td>...</td>\n",
       "    </tr>\n",
       "    <tr>\n",
       "      <th>XS89</th>\n",
       "      <td>84</td>\n",
       "    </tr>\n",
       "    <tr>\n",
       "      <th>YMML</th>\n",
       "      <td>2</td>\n",
       "    </tr>\n",
       "    <tr>\n",
       "      <th>YSSY</th>\n",
       "      <td>4</td>\n",
       "    </tr>\n",
       "    <tr>\n",
       "      <th>ZGSZ</th>\n",
       "      <td>13</td>\n",
       "    </tr>\n",
       "    <tr>\n",
       "      <th>ZUCK</th>\n",
       "      <td>6</td>\n",
       "    </tr>\n",
       "  </tbody>\n",
       "</table>\n",
       "<p>1663 rows × 1 columns</p>\n",
       "</div>"
      ],
      "text/plain": [
       "        destination\n",
       "origin             \n",
       "00GA              1\n",
       "00NY              1\n",
       "00WA              1\n",
       "00WI              2\n",
       "01FA             36\n",
       "...             ...\n",
       "XS89             84\n",
       "YMML              2\n",
       "YSSY              4\n",
       "ZGSZ             13\n",
       "ZUCK              6\n",
       "\n",
       "[1663 rows x 1 columns]"
      ]
     },
     "execution_count": 15,
     "metadata": {},
     "output_type": "execute_result"
    }
   ],
   "source": [
    "origin_grouped = flights_df.groupby([\"origin\"])\n",
    "origin_only = origin_grouped[\"destination\"]\n",
    "origin_df = pd.DataFrame(origin_only.count())\n",
    "origin_df"
   ]
  },
  {
   "cell_type": "code",
   "execution_count": 16,
   "metadata": {},
   "outputs": [],
   "source": [
    "#df[df['date']] < pd.Timestamp(date(2020,1,1))\n",
    "#date_from = pd.Timestamp(date(2020,1,1))\n",
    "#date_to = pd.Timestamp(date(2020,1,6))\n",
    "#df = df[(df['date'] > date_from) & (df['date'] > date_to)]\n",
    "#group by month\n",
    "#df['month-year'] = df['date'].map(lambda x: x.strftime('%m/%Y'))\n",
    "#grouped_df = df.groupby('month-year').size()\n",
    "#grouped_df"
   ]
  },
  {
   "cell_type": "code",
   "execution_count": 17,
   "metadata": {},
   "outputs": [],
   "source": [
    "#flights_df[\"ErrorCheck\"] = flights_df[\"airline\"].str.isnumeric()\n",
    "#flights_df.loc[flights_df[\"ErrorCheck\"] == True]"
   ]
  },
  {
   "cell_type": "code",
   "execution_count": 18,
   "metadata": {},
   "outputs": [
    {
     "data": {
      "text/html": [
       "<div>\n",
       "<style scoped>\n",
       "    .dataframe tbody tr th:only-of-type {\n",
       "        vertical-align: middle;\n",
       "    }\n",
       "\n",
       "    .dataframe tbody tr th {\n",
       "        vertical-align: top;\n",
       "    }\n",
       "\n",
       "    .dataframe thead th {\n",
       "        text-align: right;\n",
       "    }\n",
       "</style>\n",
       "<table border=\"1\" class=\"dataframe\">\n",
       "  <thead>\n",
       "    <tr style=\"text-align: right;\">\n",
       "      <th></th>\n",
       "      <th>destination</th>\n",
       "    </tr>\n",
       "    <tr>\n",
       "      <th>origin</th>\n",
       "      <th></th>\n",
       "    </tr>\n",
       "  </thead>\n",
       "  <tbody>\n",
       "    <tr>\n",
       "      <th>KLGA</th>\n",
       "      <td>10169</td>\n",
       "    </tr>\n",
       "    <tr>\n",
       "      <th>KATL</th>\n",
       "      <td>9536</td>\n",
       "    </tr>\n",
       "    <tr>\n",
       "      <th>KMSP</th>\n",
       "      <td>9199</td>\n",
       "    </tr>\n",
       "    <tr>\n",
       "      <th>KLAX</th>\n",
       "      <td>8516</td>\n",
       "    </tr>\n",
       "    <tr>\n",
       "      <th>KDEN</th>\n",
       "      <td>8247</td>\n",
       "    </tr>\n",
       "    <tr>\n",
       "      <th>PANC</th>\n",
       "      <td>7762</td>\n",
       "    </tr>\n",
       "    <tr>\n",
       "      <th>KDCA</th>\n",
       "      <td>7408</td>\n",
       "    </tr>\n",
       "    <tr>\n",
       "      <th>KPHX</th>\n",
       "      <td>7361</td>\n",
       "    </tr>\n",
       "    <tr>\n",
       "      <th>KBOS</th>\n",
       "      <td>7162</td>\n",
       "    </tr>\n",
       "    <tr>\n",
       "      <th>KDFW</th>\n",
       "      <td>7139</td>\n",
       "    </tr>\n",
       "  </tbody>\n",
       "</table>\n",
       "</div>"
      ],
      "text/plain": [
       "        destination\n",
       "origin             \n",
       "KLGA          10169\n",
       "KATL           9536\n",
       "KMSP           9199\n",
       "KLAX           8516\n",
       "KDEN           8247\n",
       "PANC           7762\n",
       "KDCA           7408\n",
       "KPHX           7361\n",
       "KBOS           7162\n",
       "KDFW           7139"
      ]
     },
     "execution_count": 18,
     "metadata": {},
     "output_type": "execute_result"
    }
   ],
   "source": [
    "origin_filtered = origin_df.nlargest(10,\"destination\")\n",
    "origin_filtered"
   ]
  },
  {
   "cell_type": "code",
   "execution_count": 19,
   "metadata": {},
   "outputs": [
    {
     "data": {
      "text/plain": [
       "<AxesSubplot:xlabel='origin'>"
      ]
     },
     "execution_count": 19,
     "metadata": {},
     "output_type": "execute_result"
    },
    {
     "data": {
      "image/png": "[encoded data removed]",
      "text/plain": [
       "<Figure size 432x288 with 1 Axes>"
      ]
     },
     "metadata": {
      "needs_background": "light"
     },
     "output_type": "display_data"
    }
   ],
   "source": [
    "origin_filtered.plot(kind=\"bar\", legend=False)"
   ]
  },
  {
   "cell_type": "code",
   "execution_count": null,
   "metadata": {},
   "outputs": [],
   "source": []
  }
 ],
 "metadata": {
  "kernelspec": {
   "display_name": "Python 3",
   "language": "python",
   "name": "python3"
  },
  "language_info": {
   "codemirror_mode": {
    "name": "ipython",
    "version": 3
   },
   "file_extension": ".py",
   "mimetype": "text/x-python",
   "name": "python",
   "nbconvert_exporter": "python",
   "pygments_lexer": "ipython3",
   "version": "3.8.5"
  }
 },
 "nbformat": 4,
 "nbformat_minor": 4
}
